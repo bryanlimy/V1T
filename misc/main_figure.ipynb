{
 "cells": [
  {
   "cell_type": "code",
   "execution_count": null,
   "metadata": {
    "collapsed": true
   },
   "outputs": [],
   "source": [
    "import os\n",
    "import pickle\n",
    "import matplotlib\n",
    "import numpy as np\n",
    "import seaborn as sns\n",
    "import matplotlib.pyplot as plt\n",
    "\n",
    "from v1t.utils import utils, tensorboard\n",
    "\n",
    "utils.set_random_seed(1234)\n",
    "\n",
    "tensorboard.set_font()\n",
    "IMAGE_SIZE = (1, 36, 64)"
   ]
  },
  {
   "cell_type": "code",
   "execution_count": null,
   "outputs": [],
   "source": [
    "label_fontsize, tick_fontsize = 10, 8\n",
    "figure, axes = plt.subplots(\n",
    "    nrows=2,\n",
    "    ncols=3,\n",
    "    figsize=(7, 3),\n",
    "    gridspec_kw={\"wspace\": 0.05, \"hspace\": 0.2},\n",
    "    dpi=120,\n",
    ")"
   ],
   "metadata": {
    "collapsed": false
   }
  },
  {
   "cell_type": "code",
   "execution_count": null,
   "outputs": [],
   "source": [
    "cmap = matplotlib.colormaps.get_cmap(\"turbo\")\n",
    "colors = cmap(np.arange(256))[:, :3]"
   ],
   "metadata": {
    "collapsed": false
   }
  },
  {
   "cell_type": "code",
   "execution_count": null,
   "outputs": [],
   "source": [
    "def load_results(filename: str):\n",
    "    with open(filename, \"rb\") as file:\n",
    "        results = pickle.load(file)\n",
    "    return results\n",
    "\n",
    "\n",
    "cnn_results = load_results(\"../runs/sensorium/023_stacked2d_gaussian2d_bm0/aRFs.pkl\")\n",
    "vit_results = load_results(\"../runs/sensorium/026_vit_gaussian2d_bm0/aRFs.pkl\")"
   ],
   "metadata": {
    "collapsed": false
   }
  }
 ],
 "metadata": {
  "kernelspec": {
   "display_name": "Python 3",
   "language": "python",
   "name": "python3"
  },
  "language_info": {
   "codemirror_mode": {
    "name": "ipython",
    "version": 2
   },
   "file_extension": ".py",
   "mimetype": "text/x-python",
   "name": "python",
   "nbconvert_exporter": "python",
   "pygments_lexer": "ipython2",
   "version": "2.7.6"
  }
 },
 "nbformat": 4,
 "nbformat_minor": 0
}
