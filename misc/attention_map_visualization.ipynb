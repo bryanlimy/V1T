{
 "cells": [
  {
   "cell_type": "code",
   "execution_count": 1,
   "metadata": {
    "collapsed": true,
    "ExecuteTime": {
     "start_time": "2023-04-23T21:09:53.941734Z",
     "end_time": "2023-04-23T21:09:55.133728Z"
    }
   },
   "outputs": [],
   "source": [
    "import os\n",
    "import pickle\n",
    "import numpy as np\n",
    "import typing as t\n",
    "from scipy.stats import pearsonr\n",
    "from scipy.ndimage import center_of_mass\n",
    "\n",
    "from v1t import data\n",
    "from v1t.utils import utils, tensorboard\n",
    "\n",
    "utils.set_random_seed(1234)\n",
    "\n",
    "tensorboard.set_font()"
   ]
  },
  {
   "cell_type": "markdown",
   "source": [
    "### Computer correlation between attention maps and behavior variables"
   ],
   "metadata": {
    "collapsed": false
   }
  },
  {
   "cell_type": "code",
   "execution_count": 2,
   "outputs": [],
   "source": [
    "def computer_centers(heatmaps: np.ndarray):\n",
    "    centers = np.zeros((len(heatmaps), 2), dtype=np.float32)\n",
    "    for i, heatmap in enumerate(heatmaps):\n",
    "        y, x = center_of_mass(heatmap)\n",
    "        centers[i, 0], centers[i, 1] = x, y\n",
    "    mid_point = np.array([64 / 2, 36 / 2])\n",
    "    centers = centers - mid_point\n",
    "    return centers\n",
    "\n",
    "\n",
    "def abs_correlation(x: np.ndarray, y: np.ndarray) -> t.Tuple[float, str]:\n",
    "    \"\"\"Return the absolute Pearson correlation and its p-value in asterisk\"\"\"\n",
    "    corr, p_value = pearsonr(x, y)\n",
    "    asterisks = \"n.s.\"\n",
    "    if p_value <= 0.0001:\n",
    "        asterisks = \"****\"\n",
    "    elif p_value <= 0.001:\n",
    "        asterisks = \"***\"\n",
    "    elif p_value <= 0.01:\n",
    "        asterisks = \"**\"\n",
    "    elif p_value <= 0.05:\n",
    "        asterisks = \"*\"\n",
    "    return np.abs(corr), asterisks"
   ],
   "metadata": {
    "collapsed": false,
    "ExecuteTime": {
     "start_time": "2023-04-23T21:09:55.137157Z",
     "end_time": "2023-04-23T21:09:55.138694Z"
    }
   }
  },
  {
   "cell_type": "code",
   "execution_count": 9,
   "outputs": [
    {
     "name": "stdout",
     "output_type": "stream",
     "text": [
      "Mouse A\n",
      "\tAbs. Corr(center of mass, pupil center)\n",
      "\tx-axis: 0.682 (****)\n",
      "\ty-axis: 0.568 (****)\n",
      "\tAbs. Corr(attention map std, pupil dilation)\n",
      "\tx-axis: 0.302 (****)\n",
      "\ty-axis: 0.323 (****)\n",
      "Mouse B\n",
      "\tAbs. Corr(center of mass, pupil center)\n",
      "\tx-axis: 0.489 (****)\n",
      "\ty-axis: 0.493 (****)\n",
      "\tAbs. Corr(attention map std, pupil dilation)\n",
      "\tx-axis: 0.245 (****)\n",
      "\ty-axis: 0.177 (****)\n",
      "Mouse C\n",
      "\tAbs. Corr(center of mass, pupil center)\n",
      "\tx-axis: 0.505 (****)\n",
      "\ty-axis: 0.370 (****)\n",
      "\tAbs. Corr(attention map std, pupil dilation)\n",
      "\tx-axis: 0.184 (****)\n",
      "\ty-axis: 0.121 (***)\n",
      "Mouse D\n",
      "\tAbs. Corr(center of mass, pupil center)\n",
      "\tx-axis: 0.484 (****)\n",
      "\ty-axis: 0.310 (****)\n",
      "\tAbs. Corr(attention map std, pupil dilation)\n",
      "\tx-axis: 0.023 (n.s.)\n",
      "\ty-axis: 0.202 (****)\n",
      "Mouse E\n",
      "\tAbs. Corr(center of mass, pupil center)\n",
      "\tx-axis: 0.464 (****)\n",
      "\ty-axis: 0.302 (****)\n",
      "\tAbs. Corr(attention map std, pupil dilation)\n",
      "\tx-axis: 0.262 (****)\n",
      "\ty-axis: 0.220 (****)\n",
      "\n",
      "Avg. Corr(center of mass, pupil center)\n",
      "\tx-axis: 0.525 \\pm 0.080\n",
      "\ty-axis: 0.409 \\pm 0.105\n",
      "\n"
     ]
    }
   ],
   "source": [
    "with open(\"../runs/best_v1t_sensorium/attention_rollout_maps.pkl\", \"rb\") as file:\n",
    "    results = pickle.load(file)\n",
    "\n",
    "center_corrs, dilation_corrs = {\"x\": [], \"y\": []}, {\"x\": [], \"y\": []}\n",
    "for mouse_id, mouse_dict in results.items():\n",
    "    print(f\"Mouse {mouse_id}\")\n",
    "    # compute correlation center of mass and pupil center\n",
    "    mass_centers = computer_centers(mouse_dict[\"heatmaps\"])\n",
    "    pupil_centers = mouse_dict[\"pupil_centers\"]\n",
    "    corr_x, p_x = abs_correlation(mass_centers[:, 0], pupil_centers[:, 0])\n",
    "    corr_y, p_y = abs_correlation(mass_centers[:, 1], pupil_centers[:, 1])\n",
    "    center_corrs[\"x\"].append(corr_x)\n",
    "    center_corrs[\"y\"].append(corr_y)\n",
    "    print(\n",
    "        f\"\\tAbs. Corr(center of mass, pupil center)\\n\"\n",
    "        f\"\\tx-axis: {corr_x:.03f} ({p_x})\\n\\ty-axis: {corr_y:.03f} ({p_y})\"\n",
    "    )\n",
    "\n",
    "    # standard deviation in x and y axes\n",
    "    spread_x = np.std(np.sum(mouse_dict[\"heatmaps\"], axis=1), axis=1)\n",
    "    spread_y = np.std(np.sum(mouse_dict[\"heatmaps\"], axis=2), axis=1)\n",
    "    dilation = mouse_dict[\"behaviors\"][:, 0]\n",
    "    # absolute correlation between pupil dilation and attention map\n",
    "    # standard deviation\n",
    "    corr_x, p_x = abs_correlation(spread_x, dilation)\n",
    "    corr_y, p_y = abs_correlation(spread_y, dilation)\n",
    "    dilation_corrs[\"x\"].append(corr_x)\n",
    "    dilation_corrs[\"y\"].append(corr_y)\n",
    "    print(\n",
    "        f\"\\tAbs. Corr(attention map std, pupil dilation)\\n\"\n",
    "        f\"\\tx-axis: {corr_x:.03f} ({p_x})\\n\\ty-axis: {corr_y:.03f} ({p_y})\"\n",
    "    )\n",
    "\n",
    "print(\n",
    "    f\"\\nAvg. Corr(center of mass, pupil center)\\n\"\n",
    "    f'\\tx-axis: {np.mean(center_corrs[\"x\"]):.03f} \\pm {np.std(center_corrs[\"x\"]):.03f}\\n'\n",
    "    f'\\ty-axis: {np.mean(center_corrs[\"y\"]):.03f} \\pm {np.std(center_corrs[\"y\"]):.03f}\\n'\n",
    ")"
   ],
   "metadata": {
    "collapsed": false,
    "ExecuteTime": {
     "start_time": "2023-04-23T21:11:49.525453Z",
     "end_time": "2023-04-23T21:11:49.687039Z"
    }
   }
  },
  {
   "cell_type": "markdown",
   "source": [
    "### Plot attention rollout map overlay on top of visual stimulus"
   ],
   "metadata": {
    "collapsed": false
   }
  },
  {
   "cell_type": "code",
   "execution_count": null,
   "outputs": [],
   "source": [],
   "metadata": {
    "collapsed": false
   }
  }
 ],
 "metadata": {
  "kernelspec": {
   "display_name": "Python 3",
   "language": "python",
   "name": "python3"
  },
  "language_info": {
   "codemirror_mode": {
    "name": "ipython",
    "version": 2
   },
   "file_extension": ".py",
   "mimetype": "text/x-python",
   "name": "python",
   "nbconvert_exporter": "python",
   "pygments_lexer": "ipython2",
   "version": "2.7.6"
  }
 },
 "nbformat": 4,
 "nbformat_minor": 0
}
