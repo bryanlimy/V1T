{
 "cells": [
  {
   "cell_type": "code",
   "execution_count": null,
   "metadata": {
    "collapsed": false,
    "pycharm": {
     "name": "#%%\n"
    }
   },
   "outputs": [],
   "source": [
    "import os\n",
    "import numpy as np\n",
    "import seaborn as sns\n",
    "import matplotlib.cm as cm\n",
    "import matplotlib.pyplot as plt\n",
    "\n",
    "from sensorium.data import data\n",
    "from sensorium.utils import utils, tensorboard\n",
    "\n",
    "utils.set_random_seed(1234)\n",
    "\n",
    "GRAY = cm.get_cmap(\"gray\")\n",
    "BACKGROUND_COLOR = \"#fbfbfb\""
   ]
  },
  {
   "cell_type": "code",
   "execution_count": null,
   "metadata": {
    "collapsed": false,
    "pycharm": {
     "name": "#%%\n"
    }
   },
   "outputs": [],
   "source": [
    "dataset, metadata = data.load_mice_data(mice_dir=\"../data\")"
   ]
  },
  {
   "cell_type": "code",
   "execution_count": null,
   "metadata": {
    "collapsed": false,
    "pycharm": {
     "name": "#%%\n"
    }
   },
   "outputs": [],
   "source": [
    "for i in dataset.keys():\n",
    "    print(\n",
    "        f'Mouse {i+1}\\t\\tnum. neurons: {dataset[i][\"response\"].shape[1]}\\t\\tnum. trials: {dataset[i][\"image\"].shape[0]}'\n",
    "    )"
   ]
  },
  {
   "cell_type": "code",
   "execution_count": null,
   "metadata": {
    "collapsed": false,
    "pycharm": {
     "name": "#%%\n"
    }
   },
   "outputs": [],
   "source": [
    "# normalize array to range [0, 1]\n",
    "normalize = lambda a: (a - np.min(a)) / (np.max(a) - np.min(a))\n",
    "# standardize array to 0 mean and unit variance\n",
    "standardize = lambda a: (a - np.mean(a)) / np.std(a)"
   ]
  },
  {
   "cell_type": "markdown",
   "metadata": {
    "collapsed": false,
    "pycharm": {
     "name": "#%% md\n"
    }
   },
   "source": [
    "Plot mouse 3 responses"
   ]
  },
  {
   "cell_type": "code",
   "execution_count": null,
   "outputs": [],
   "source": [
    "responses = normalize(dataset[2][\"response\"])\n",
    "\n",
    "figure, ax = plt.subplots(\n",
    "    nrows=1,\n",
    "    ncols=1,\n",
    "    gridspec_kw={\"wspace\": 0.05, \"hspace\": 0.01},\n",
    "    figsize=(5, 5),\n",
    "    dpi=120,\n",
    "    facecolor=BACKGROUND_COLOR,\n",
    ")\n",
    "\n",
    "\n",
    "N_TRIALS, N_NEURONS = 60, 40\n",
    "ax.imshow(responses[:N_TRIALS, :N_NEURONS].T, cmap=GRAY)\n",
    "\n",
    "x_ticks = np.linspace(0, N_TRIALS - 1, 5)\n",
    "tensorboard.set_xticks(\n",
    "    axis=ax, ticks_loc=x_ticks, ticks=x_ticks.astype(int), label=\"Trials\"\n",
    ")\n",
    "y_ticks = np.linspace(0, N_NEURONS - 1, 5)\n",
    "tensorboard.set_yticks(\n",
    "    axis=ax, ticks_loc=y_ticks, ticks=y_ticks.astype(int), label=\"Neurons\"\n",
    ")\n",
    "\n",
    "# add colorbar\n",
    "width, height = 0.015, ax.get_position().y1 * 0.3\n",
    "cbar_ax = figure.add_axes(\n",
    "    rect=[\n",
    "        ax.get_position().x1 + 0.01,\n",
    "        ((ax.get_position().y1 - ax.get_position().y0) / 2 + ax.get_position().y0)\n",
    "        - (height / 2),\n",
    "        width,\n",
    "        height,\n",
    "    ]\n",
    ")\n",
    "figure.colorbar(cm.ScalarMappable(cmap=GRAY), cax=cbar_ax, shrink=0.1)\n",
    "tensorboard.set_yticks(\n",
    "    axis=cbar_ax,\n",
    "    ticks_loc=np.linspace(0, 1, 3),\n",
    "    ticks=np.linspace(0, 1, 3),\n",
    "    label=\"\",\n",
    ")\n",
    "ax.set_title(\"Mouse 3 responses vs images\")\n",
    "\n",
    "tensorboard.save_figure(\n",
    "    figure, filename=\"plots/mouse3_responses_v_images.png\", dpi=240, close=False\n",
    ")\n",
    "\n",
    "plt.show()\n",
    "plt.close(figure)"
   ],
   "metadata": {
    "collapsed": false,
    "pycharm": {
     "name": "#%%\n"
    }
   }
  },
  {
   "cell_type": "markdown",
   "source": [
    "Plot image - response pairs from Mouse 3"
   ],
   "metadata": {
    "collapsed": false,
    "pycharm": {
     "name": "#%% md\n"
    }
   }
  },
  {
   "cell_type": "code",
   "execution_count": null,
   "outputs": [],
   "source": [
    "N_TRIALS = 3\n",
    "\n",
    "images, responses, behaviors = (\n",
    "    dataset[2][\"image\"],\n",
    "    dataset[2][\"response\"],\n",
    "    dataset[2][\"behavior\"],\n",
    ")\n",
    "print(\n",
    "    f\"image dimension: {images.shape[1:]}\\n\" f\"number of neurons: {responses.shape[1]}\"\n",
    ")\n",
    "\n",
    "figure, axes = plt.subplots(\n",
    "    nrows=N_TRIALS,\n",
    "    ncols=2,\n",
    "    gridspec_kw={\"wspace\": 0.015, \"hspace\": 0.2},\n",
    "    figsize=(8, 3 * N_TRIALS),\n",
    "    dpi=120,\n",
    "    facecolor=BACKGROUND_COLOR,\n",
    ")\n",
    "\n",
    "trials = np.random.choice(images.shape[0], size=N_TRIALS, replace=False)\n",
    "x_axis = np.arange(responses.shape[1])\n",
    "\n",
    "for i, trial in enumerate(trials):\n",
    "    # plot response\n",
    "    axes[i, 0].scatter(x=x_axis, y=responses[trial], s=2, alpha=0.8, color=\"orangered\")\n",
    "    axes[i, 0].set_facecolor(BACKGROUND_COLOR)\n",
    "    axes[i, 0].set_ylabel(f\"Trial {trial:03d}\\nResponse\")\n",
    "    if i == N_TRIALS - 1:\n",
    "        axes[i, 0].set_xlabel(\"Neurons\")\n",
    "    tensorboard.remove_top_right_spines(axis=axes[i, 0])\n",
    "    axes[i, 0].set_ylim(np.min(responses[trial]), np.max(responses[trial]))\n",
    "    # plot natural image\n",
    "    axes[i, 1].imshow(normalize(images[trial][0]), cmap=GRAY, aspect=\"auto\")\n",
    "    axes[i, 1].set_xlabel(\n",
    "        rf\"pupil size: {behaviors[trial][0]:.02f}, $\\Delta$ size: {behaviors[trial][1]:.02f}, speed: {behaviors[trial][2]:.02f}\"\n",
    "    )\n",
    "    axes[i, 1].set_xticks([])\n",
    "    axes[i, 1].set_yticks([])\n",
    "    axes[i, 1].tick_params(axis=\"both\", which=\"both\", pad=0, length=0)\n",
    "    tensorboard.remove_spines(axis=axes[i, 1])\n",
    "\n",
    "tensorboard.save_figure(\n",
    "    figure, filename=\"plots/mouse3_responses_v_images_2.png\", dpi=240, close=False\n",
    ")\n",
    "\n",
    "plt.show()\n",
    "plt.close(figure)"
   ],
   "metadata": {
    "collapsed": false,
    "pycharm": {
     "name": "#%%\n"
    }
   }
  },
  {
   "cell_type": "markdown",
   "source": [
    "Plot Mouse 3 - 7 response distributions"
   ],
   "metadata": {
    "collapsed": false,
    "pycharm": {
     "name": "#%% md\n"
    }
   }
  },
  {
   "cell_type": "code",
   "execution_count": null,
   "outputs": [],
   "source": [
    "N_TRIALS = 100\n",
    "\n",
    "figure, ax = plt.subplots(\n",
    "    nrows=1,\n",
    "    ncols=1,\n",
    "    gridspec_kw={\"wspace\": 0.05, \"hspace\": 0.05},\n",
    "    figsize=(1.5 * len(dataset), 5),\n",
    "    dpi=120,\n",
    "    facecolor=BACKGROUND_COLOR,\n",
    ")\n",
    "\n",
    "responses = [dataset[i][\"response\"][:N_TRIALS].flatten() for i in dataset.keys()]\n",
    "sns.violinplot(\n",
    "    data=responses,\n",
    "    scale=\"area\",\n",
    "    width=0.9,\n",
    "    inner=\"quartile\",\n",
    "    linewidth=1,\n",
    "    ax=ax,\n",
    ")\n",
    "ax.set_facecolor(BACKGROUND_COLOR)\n",
    "ax.set_yscale(\"symlog\")\n",
    "ax.set_xticklabels(\n",
    "    [f\"Mouse {i+1}\" for i in range(len(dataset))], va=\"top\", ha=\"center\", rotation=90\n",
    ")\n",
    "ax.set_xlim(left=-0.5, right=len(responses) - 0.5)\n",
    "\n",
    "tensorboard.remove_top_right_spines(axis=ax)\n",
    "ax.set_ylabel(\"Responses (symmetric-log scale)\")\n",
    "ax.set_title(\"Responses distribution\")\n",
    "\n",
    "tensorboard.save_figure(\n",
    "    figure, filename=\"plots/response_distribution.png\", dpi=240, close=False\n",
    ")\n",
    "\n",
    "plt.show()\n",
    "plt.close(figure)"
   ],
   "metadata": {
    "collapsed": false,
    "pycharm": {
     "name": "#%%\n"
    }
   }
  },
  {
   "cell_type": "markdown",
   "source": [
    "Plot anatomical coordinates for mouse 2"
   ],
   "metadata": {
    "collapsed": false,
    "pycharm": {
     "name": "#%% md\n"
    }
   }
  },
  {
   "cell_type": "code",
   "execution_count": null,
   "outputs": [],
   "source": [
    "def plot_coordinates(coordinates, mouse_id: int):\n",
    "    print(\n",
    "        f\"coordinates min: {np.min(coordinates, axis=0)}\\n\"\n",
    "        f\"coordinates max: {np.max(coordinates, axis=0)}\"\n",
    "    )\n",
    "\n",
    "    figure = plt.figure(figsize=(6, 6), dpi=120, facecolor=BACKGROUND_COLOR)\n",
    "    ax = figure.add_subplot(1, 1, 1, projection=\"3d\", facecolor=BACKGROUND_COLOR)\n",
    "    ax.scatter3D(*coordinates.T, s=10, alpha=0.4, color=\"black\")\n",
    "    ax.set_xlabel(\"x coordinate\")\n",
    "    ax.set_ylabel(\"y coordinate\")\n",
    "    ax.set_zlabel(\"z coordinate\")\n",
    "    ax.set_title(f\"Mouse {mouse_id+1} cell motor coordinates\")\n",
    "    figure.tight_layout()\n",
    "\n",
    "    tensorboard.save_figure(\n",
    "        figure,\n",
    "        filename=f\"plots/mouse{mouse_id}_cell_coordinates.png\",\n",
    "        dpi=240,\n",
    "        close=False,\n",
    "    )\n",
    "\n",
    "    plt.show()\n",
    "    plt.close(figure)"
   ],
   "metadata": {
    "collapsed": false,
    "pycharm": {
     "name": "#%%\n"
    }
   }
  },
  {
   "cell_type": "code",
   "execution_count": null,
   "outputs": [],
   "source": [
    "plot_coordinates(metadata[0][\"coordinates\"], mouse_id=0)"
   ],
   "metadata": {
    "collapsed": false,
    "pycharm": {
     "name": "#%%\n"
    }
   }
  },
  {
   "cell_type": "code",
   "execution_count": null,
   "metadata": {
    "collapsed": false,
    "pycharm": {
     "name": "#%%\n"
    }
   },
   "outputs": [],
   "source": [
    "plot_coordinates(metadata[1][\"coordinates\"], mouse_id=1)"
   ]
  },
  {
   "cell_type": "code",
   "execution_count": null,
   "outputs": [],
   "source": [
    "plot_coordinates(metadata[2][\"coordinates\"], mouse_id=2)"
   ],
   "metadata": {
    "collapsed": false,
    "pycharm": {
     "name": "#%%\n"
    }
   }
  },
  {
   "cell_type": "code",
   "execution_count": null,
   "outputs": [],
   "source": [
    "plot_coordinates(metadata[3][\"coordinates\"], mouse_id=3)"
   ],
   "metadata": {
    "collapsed": false,
    "pycharm": {
     "name": "#%%\n"
    }
   }
  },
  {
   "cell_type": "code",
   "execution_count": null,
   "outputs": [],
   "source": [
    "plot_coordinates(metadata[4][\"coordinates\"], mouse_id=4)"
   ],
   "metadata": {
    "collapsed": false,
    "pycharm": {
     "name": "#%%\n"
    }
   }
  },
  {
   "cell_type": "code",
   "execution_count": null,
   "outputs": [],
   "source": [
    "plot_coordinates(metadata[5][\"coordinates\"], mouse_id=5)"
   ],
   "metadata": {
    "collapsed": false,
    "pycharm": {
     "name": "#%%\n"
    }
   }
  },
  {
   "cell_type": "code",
   "execution_count": null,
   "outputs": [],
   "source": [
    "plot_coordinates(metadata[6][\"coordinates\"], mouse_id=6)"
   ],
   "metadata": {
    "collapsed": false,
    "pycharm": {
     "name": "#%%\n"
    }
   }
  },
  {
   "cell_type": "code",
   "execution_count": null,
   "outputs": [],
   "source": [],
   "metadata": {
    "collapsed": false,
    "pycharm": {
     "name": "#%%\n"
    }
   }
  }
 ],
 "metadata": {
  "kernelspec": {
   "display_name": "Python 3.8.13 ('sensorium')",
   "language": "python",
   "name": "python3"
  },
  "language_info": {
   "codemirror_mode": {
    "name": "ipython",
    "version": 3
   },
   "file_extension": ".py",
   "mimetype": "text/x-python",
   "name": "python",
   "nbconvert_exporter": "python",
   "pygments_lexer": "ipython3",
   "version": "3.8.13"
  },
  "vscode": {
   "interpreter": {
    "hash": "e7e76b3d62a006a0d022ae78ec7bdff433616ce229b2a499757b95d8fe7a9687"
   }
  }
 },
 "nbformat": 4,
 "nbformat_minor": 0
}