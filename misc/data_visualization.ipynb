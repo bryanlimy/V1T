{
 "cells": [
  {
   "cell_type": "code",
   "execution_count": null,
   "outputs": [],
   "source": [
    "import os\n",
    "import numpy as np\n",
    "import seaborn as sns\n",
    "import matplotlib.cm as cm\n",
    "import matplotlib.pyplot as plt\n",
    "\n",
    "from sensorium.data import dataset\n",
    "from sensorium.utils import utils, tensorboard\n",
    "\n",
    "utils.set_random_seed(1234)\n",
    "\n",
    "GRAY = cm.get_cmap(\"gray\")"
   ],
   "metadata": {
    "collapsed": false,
    "pycharm": {
     "name": "#%%\n",
     "is_executing": true
    }
   }
  },
  {
   "cell_type": "code",
   "execution_count": null,
   "outputs": [],
   "source": [
    "data = dataset.load_mice_data(mice_dir=\"../data/raw_data\", mouse_ids=[2, 3, 4, 5, 6])"
   ],
   "metadata": {
    "collapsed": false,
    "pycharm": {
     "name": "#%%\n",
     "is_executing": true
    }
   }
  },
  {
   "cell_type": "code",
   "execution_count": null,
   "outputs": [],
   "source": [
    "for i in data.keys():\n",
    "    print(\n",
    "        f'Mouse {i+1}\\t\\tnum. neurons: {data[i][\"response\"].shape[1]}\\t\\tnum. trials: {data[i][\"image\"].shape[0]}'\n",
    "    )"
   ],
   "metadata": {
    "collapsed": false,
    "pycharm": {
     "name": "#%%\n",
     "is_executing": true
    }
   }
  },
  {
   "cell_type": "code",
   "execution_count": null,
   "outputs": [],
   "source": [
    "# normalize array to range [0, 1]\n",
    "normalize = lambda a: (a - np.min(a)) / (np.max(a) - np.min(a))\n",
    "# standardize array to 0 mean and unit variance\n",
    "standardize = lambda a: (a - np.mean(a)) / np.std(a)"
   ],
   "metadata": {
    "collapsed": false,
    "pycharm": {
     "name": "#%%\n",
     "is_executing": true
    }
   }
  },
  {
   "cell_type": "markdown",
   "source": [
    "Plot mouse 3 responses"
   ],
   "metadata": {
    "collapsed": false,
    "pycharm": {
     "name": "#%% md\n"
    }
   }
  },
  {
   "cell_type": "code",
   "execution_count": null,
   "outputs": [],
   "source": [
    "responses = normalize(data[2][\"response\"])\n",
    "\n",
    "figure, ax = plt.subplots(\n",
    "    nrows=1,\n",
    "    ncols=1,\n",
    "    gridspec_kw={\"wspace\": 0.05, \"hspace\": 0.01},\n",
    "    figsize=(5, 5),\n",
    "    dpi=120,\n",
    "    facecolor=\"white\",\n",
    ")\n",
    "\n",
    "\n",
    "N_TRIALS, N_NEURONS = 60, 30\n",
    "ax.imshow(responses[:N_TRIALS, :N_NEURONS].T, cmap=GRAY)\n",
    "\n",
    "x_ticks = np.linspace(0, N_TRIALS - 1, 5)\n",
    "tensorboard.set_xticks(\n",
    "    axis=ax, ticks_loc=x_ticks, ticks=x_ticks.astype(int), label=\"Trials\"\n",
    ")\n",
    "y_ticks = np.linspace(0, N_NEURONS - 1, 5)\n",
    "tensorboard.set_yticks(\n",
    "    axis=ax, ticks_loc=y_ticks, ticks=y_ticks.astype(int), label=\"Neurons\"\n",
    ")\n",
    "\n",
    "# add colorbar\n",
    "width, height = 0.015, ax.get_position().y1 * 0.3\n",
    "cbar_ax = figure.add_axes(\n",
    "    rect=[\n",
    "        ax.get_position().x1 + 0.01,\n",
    "        ((ax.get_position().y1 - ax.get_position().y0) / 2 + ax.get_position().y0)\n",
    "        - (height / 2),\n",
    "        width,\n",
    "        height,\n",
    "    ]\n",
    ")\n",
    "figure.colorbar(cm.ScalarMappable(cmap=GRAY), cax=cbar_ax, shrink=0.1)\n",
    "tensorboard.set_yticks(\n",
    "    axis=cbar_ax,\n",
    "    ticks_loc=np.linspace(0, 1, 3),\n",
    "    ticks=np.linspace(0, 1, 3),\n",
    "    label=\"\",\n",
    ")\n",
    "\n",
    "plt.show()\n",
    "plt.close(figure)"
   ],
   "metadata": {
    "collapsed": false,
    "pycharm": {
     "name": "#%%\n",
     "is_executing": true
    }
   }
  },
  {
   "cell_type": "markdown",
   "source": [
    "Plot image - response pairs from Mouse 3"
   ],
   "metadata": {
    "collapsed": false,
    "pycharm": {
     "name": "#%% md\n"
    }
   }
  },
  {
   "cell_type": "code",
   "execution_count": null,
   "outputs": [],
   "source": [
    "images, responses = data[2][\"image\"], data[2][\"response\"]\n",
    "print(f\"image dimension: {images.shape[1:]}, number of neurons: {responses.shape[1]}\")"
   ],
   "metadata": {
    "collapsed": false,
    "pycharm": {
     "name": "#%%\n",
     "is_executing": true
    }
   }
  },
  {
   "cell_type": "code",
   "execution_count": null,
   "outputs": [],
   "source": [
    "N_TRIALS = 5\n",
    "\n",
    "figure, axes = plt.subplots(\n",
    "    nrows=N_TRIALS,\n",
    "    ncols=2,\n",
    "    gridspec_kw={\"wspace\": 0.02, \"hspace\": 0.15},\n",
    "    figsize=(8, 3 * N_TRIALS),\n",
    "    dpi=120,\n",
    "    facecolor=\"white\",\n",
    ")\n",
    "\n",
    "trials = np.random.choice(images.shape[0], size=N_TRIALS, replace=False)\n",
    "x_axis = np.arange(responses.shape[1])\n",
    "\n",
    "for i, trial in enumerate(trials):\n",
    "    axes[i, 0].scatter(x=x_axis, y=responses[trial], s=2, color=\"orangered\")\n",
    "    axes[i, 0].set_ylabel(\"Response\")\n",
    "    if i == N_TRIALS - 1:\n",
    "        axes[i, 0].set_xlabel(\"Neurons\")\n",
    "    tensorboard.remove_top_right_spines(axis=axes[i, 0])\n",
    "    axes[i, 1].imshow(normalize(images[trial][0]), cmap=GRAY, aspect=\"auto\")\n",
    "    axes[i, 1].set_xlabel(f\"Trial {trial:03d}\")\n",
    "    axes[i, 1].set_xticks([])\n",
    "    axes[i, 1].set_yticks([])\n",
    "    tensorboard.remove_spines(axis=axes[i, 1])\n",
    "\n",
    "plt.show()\n",
    "plt.close(figure)"
   ],
   "metadata": {
    "collapsed": false,
    "pycharm": {
     "name": "#%%\n",
     "is_executing": true
    }
   }
  },
  {
   "cell_type": "markdown",
   "source": [
    "Plot Mouse 3 - 7 response distributions"
   ],
   "metadata": {
    "collapsed": false,
    "pycharm": {
     "name": "#%% md\n"
    }
   }
  },
  {
   "cell_type": "code",
   "execution_count": null,
   "outputs": [],
   "source": [
    "N_TRIALS = 100\n",
    "\n",
    "figure, ax = plt.subplots(\n",
    "    nrows=1,\n",
    "    ncols=1,\n",
    "    gridspec_kw={\"wspace\": 0.05, \"hspace\": 0.05},\n",
    "    figsize=(7, 5),\n",
    "    dpi=120,\n",
    "    facecolor=\"white\",\n",
    ")\n",
    "\n",
    "responses = [data[i][\"response\"][:N_TRIALS].flatten() for i in range(2, 7)]\n",
    "sns.violinplot(\n",
    "    data=responses, scale=\"count\", width=0.9, inner=\"box\", linewidth=1, ax=ax\n",
    ")\n",
    "ax.set_yscale(\"symlog\")\n",
    "ax.set_xticklabels(\n",
    "    [f\"Mouse {i+1}\" for i in range(2, 7)], va=\"top\", ha=\"center\", rotation=90\n",
    ")\n",
    "ax.set_xlim(left=-1, right=len(responses))\n",
    "tensorboard.remove_top_right_spines(axis=ax)\n",
    "ax.set_ylabel(\"Responses (symmetric-log scale)\")\n",
    "\n",
    "plt.show()\n",
    "plt.close(figure)"
   ],
   "metadata": {
    "collapsed": false,
    "pycharm": {
     "name": "#%%\n",
     "is_executing": true
    }
   }
  },
  {
   "cell_type": "code",
   "execution_count": null,
   "outputs": [],
   "source": [],
   "metadata": {
    "collapsed": false,
    "pycharm": {
     "name": "#%%\n",
     "is_executing": true
    }
   }
  }
 ],
 "metadata": {
  "kernelspec": {
   "display_name": "Python 3",
   "language": "python",
   "name": "python3"
  },
  "language_info": {
   "codemirror_mode": {
    "name": "ipython",
    "version": 2
   },
   "file_extension": ".py",
   "mimetype": "text/x-python",
   "name": "python",
   "nbconvert_exporter": "python",
   "pygments_lexer": "ipython2",
   "version": "2.7.6"
  }
 },
 "nbformat": 4,
 "nbformat_minor": 0
}